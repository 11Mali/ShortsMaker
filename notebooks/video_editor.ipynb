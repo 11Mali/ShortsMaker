{
 "cells": [
  {
   "cell_type": "markdown",
   "metadata": {},
   "source": [
    "My intentions here is to cut the larger video into smaller segments based on the interval determined by timestamps from chapters"
   ]
  },
  {
   "cell_type": "code",
   "execution_count": 47,
   "metadata": {},
   "outputs": [],
   "source": [
    "from pytube import YouTube\n",
    "import moviepy.editor as mpe\n",
    "from moviepy.video.io.ffmpeg_tools import ffmpeg_extract_subclip\n",
    "\n",
    "import requests\n",
    "import re\n",
    "import os\n",
    "import time\n",
    "from datetime import date, datetime\n",
    "import random\n"
   ]
  },
  {
   "cell_type": "code",
   "execution_count": 48,
   "metadata": {},
   "outputs": [],
   "source": [
    "def chapther_grabber(video_link):\n",
    "    #record start time\n",
    "    start_time = time.time()\n",
    "\n",
    "    yt = YouTube(video_link)\n",
    "    print(\"video found\")\n",
    "\n",
    "    #Saved the description in a string variable. want to remove the chapterstamps out into its own list\n",
    "    url = requests.get(video_link).text\n",
    "    search = re.search(r'shortDescription\":\"', url)\n",
    "    description = \"\"\n",
    "    print(\"description found\")\n",
    "\n",
    "    count = search.start() + 19  # adding the length of the 'shortDescription\":\"\n",
    "    while True:\n",
    "        # get the letter at current index in text\n",
    "        letter = url[count]\n",
    "        if letter == \"\\\"\":\n",
    "            if url[count - 1] == \"\\\\\":\n",
    "                # this is case where the letter before is a backslash, meaning it is not real end of description\n",
    "                description += letter\n",
    "                count += 1\n",
    "            else:\n",
    "                break\n",
    "        else:\n",
    "            description += letter\n",
    "            count += 1\n",
    "\n",
    "    print(f'description: {description}')\n",
    "\n",
    "    #Length of video - converted to timestamp format\n",
    "    video_len = yt.length\n",
    "\n",
    "    seconds = video_len % (24 * 3600)\n",
    "    seconds %= 3600\n",
    "    minutes = seconds // 60\n",
    "    seconds %= 60\n",
    "\n",
    "    video_len = (\"%02d:%02d\" % (minutes, seconds)) # Format --> MM:SS\n",
    "\n",
    "    print(f\"length of video {video_len} min\")\n",
    "\n",
    "    #extract timestamps\n",
    "    timestamps = re.findall(r\"\\d+:\\d+\",description)\n",
    "    print(f\"Found {len(timestamps)} timestamps\")\n",
    "\n",
    "    #record end time\n",
    "    end_time = time.time()\n",
    "\n",
    "    print(f\"The time of execution of above program is : {round((end_time-start_time),2)} s\")\n",
    "    \n",
    "    return timestamps , video_len"
   ]
  },
  {
   "cell_type": "code",
   "execution_count": 49,
   "metadata": {},
   "outputs": [
    {
     "name": "stdout",
     "output_type": "stream",
     "text": [
      "video found\n",
      "description found\n",
      "description: Take a moment to escape into Spyro the Dragon's enchanting world, where gentle ambient space music wraps around you like a warm blanket. As Spyro soars through autumn skies, the blend of calming sounds and nostalgic visuals brings a sense of peace and comfort, almost like reconnecting with an old friend. It's more than just a game—it's a soothing retreat that invites you to relax, unwind, and lose yourself in the beauty of a beloved classic. CozyCorner is your place to slow down and savor the simple joys.\\n\\n\\nSubscribe and leave a like!!\\nShare your feelings in the comments below!\\n\\nTimestamps⏰\\n00:00 \\\"first light of autumn\\\"\\n04:07 \\\"harvest breeze\\\"\\n07:07 \\\"first night of autumn\\\"\\n11:07 \\\"golden leaves\\\"\\n15:07 \\\"quaint village\\\"\\n18:12 \\\"village market stroll\\\"\\n20:20 \\\"candlelit evening\\\"\\n21:18 \\\"harvest moon rising\\\"\\n24:30 \\\"when will the snow fall?\\\"\\n\\n#relaxingmusic #darkambience #sleepaid #gamingnostalgia\\n#ambientmusic #backgroundmusic #relaxingmusic #meditation #meditationmusic #peacefulmusic #soothing #soothingmusic #softmusic #studymusic #study #focusmusic #focus #studymotivation #music #composer #darkmusic #ambient #sleep #sleepmusic\n",
      "length of video 26:29 min\n",
      "Found 9 timestamps\n",
      "The time of execution of above program is : 0.75 s\n"
     ]
    }
   ],
   "source": [
    "#the only global variable is the link\n",
    "ytv_url = \"https://www.youtube.com/watch?v=phOkyQo7rjo\"\n",
    "\n",
    "timestamps, video_len = chapther_grabber(ytv_url)\n",
    "\n"
   ]
  },
  {
   "cell_type": "markdown",
   "metadata": {},
   "source": [
    "## From here the editing will begin!"
   ]
  },
  {
   "cell_type": "markdown",
   "metadata": {},
   "source": [
    "I now have the timestamps in a list, the full video length, and the downloaded video\n",
    "\n",
    "From these variables i should be able to determine where moviepy.editor should cut the video"
   ]
  },
  {
   "cell_type": "markdown",
   "metadata": {},
   "source": [
    "His system works differently. it cuts every 30 seconds. I want to cut by intervals.\n",
    "\n",
    "so whats the math?\n",
    "- convert timestamps to seconds so i can determine intervals\n",
    "- add desired length of clip from start of timestamp which is then the end.\n",
    "- Add noise to see if different length of clips improve quality"
   ]
  },
  {
   "cell_type": "code",
   "execution_count": 4,
   "metadata": {},
   "outputs": [],
   "source": [
    "def time_to_seconds(timestamps):\n",
    "    minutes, seconds = map(int, timestamps.split(\":\"))\n",
    "    return minutes * 60 + seconds"
   ]
  },
  {
   "cell_type": "code",
   "execution_count": 50,
   "metadata": {},
   "outputs": [],
   "source": [
    "def shortMaker(clip_length,video_path, video_link):\n",
    "\n",
    "    ytv_url = \"https://www.youtube.com/watch?v=phOkyQo7rjo\"\n",
    "    timestamps, video_len = chapther_grabber(ytv_url)\n",
    "\n",
    "    def time_to_seconds(timestamps):\n",
    "        minutes, seconds = map(int, timestamps.split(\":\"))\n",
    "        return minutes * 60 + seconds\n",
    "\n",
    "    #record start time\n",
    "    start = time.time()\n",
    "\n",
    "    #i want to add this to the output path\n",
    "    current_date = date.today().strftime(\"%d-%m-%y\")\n",
    "\n",
    "    #convert timestamps to seconds\n",
    "    timestamps_in_seconds = [time_to_seconds(t) for t in timestamps]\n",
    "\n",
    "    #create output path for shorts videos\n",
    "    SAVE_PATH = f\"/home/mali/repurpose/shortsfolder/{current_date}\" \n",
    "    if not os.path.exists(SAVE_PATH):\n",
    "        os.makedirs(SAVE_PATH)\n",
    "\n",
    "    #try:\n",
    "    for i in range(len(timestamps)):\n",
    "        print(\"Processing subclip\")\n",
    "        noise = 0\n",
    "        #determine start and end of clips\n",
    "        noise = random.randint(0, min(40,clip_length))\n",
    "        start_time = timestamps_in_seconds[i]\n",
    "        end_time = (timestamps_in_seconds[i] + clip_length)  - noise\n",
    "\n",
    "        print(f\"clip start:{start_time} clip end:{end_time} clip length:{end_time-start_time}\")\n",
    "\n",
    "        ffmpeg_extract_subclip(\n",
    "                    video_path,\n",
    "                    start_time,\n",
    "                    end_time,\n",
    "                    targetname=f\"{SAVE_PATH}/short{i+1}.mp4\")\n",
    "            \n",
    "        print(f\"clip{i} finished...\")\n",
    "    #except Exception as e:\n",
    "     #   print(f\"Error: {e}\")\n",
    "    \n",
    "    #record end time\n",
    "    end = time.time()\n",
    "    print(f\"The time of execution of above program is : {round((end-start),2)} s\")"
   ]
  },
  {
   "cell_type": "code",
   "execution_count": 51,
   "metadata": {},
   "outputs": [
    {
     "name": "stdout",
     "output_type": "stream",
     "text": [
      "Processing subclip\n",
      "clip start:0 clip end:53 clip length:53\n",
      "Moviepy - Running:\n",
      ">>> \"+ \" \".join(cmd)\n",
      "Moviepy - Command successful\n",
      "clip0 finished...\n",
      "Processing subclip\n",
      "clip start:247 clip end:295 clip length:48\n",
      "Moviepy - Running:\n",
      ">>> \"+ \" \".join(cmd)\n",
      "Moviepy - Command successful\n",
      "clip1 finished...\n",
      "Processing subclip\n",
      "clip start:427 clip end:472 clip length:45\n",
      "Moviepy - Running:\n",
      ">>> \"+ \" \".join(cmd)\n",
      "Moviepy - Command successful\n",
      "clip2 finished...\n",
      "Processing subclip\n",
      "clip start:667 clip end:698 clip length:31\n",
      "Moviepy - Running:\n",
      ">>> \"+ \" \".join(cmd)\n",
      "Moviepy - Command successful\n",
      "clip3 finished...\n",
      "Processing subclip\n",
      "clip start:907 clip end:962 clip length:55\n",
      "Moviepy - Running:\n",
      ">>> \"+ \" \".join(cmd)\n",
      "Moviepy - Command successful\n",
      "clip4 finished...\n",
      "Processing subclip\n",
      "clip start:1092 clip end:1140 clip length:48\n",
      "Moviepy - Running:\n",
      ">>> \"+ \" \".join(cmd)\n",
      "Moviepy - Command successful\n",
      "clip5 finished...\n",
      "Processing subclip\n",
      "clip start:1220 clip end:1265 clip length:45\n",
      "Moviepy - Running:\n",
      ">>> \"+ \" \".join(cmd)\n",
      "Moviepy - Command successful\n",
      "clip6 finished...\n",
      "Processing subclip\n",
      "clip start:1278 clip end:1308 clip length:30\n",
      "Moviepy - Running:\n",
      ">>> \"+ \" \".join(cmd)\n",
      "Moviepy - Command successful\n",
      "clip7 finished...\n",
      "Processing subclip\n",
      "clip start:1470 clip end:1501 clip length:31\n",
      "Moviepy - Running:\n",
      ">>> \"+ \" \".join(cmd)\n",
      "Moviepy - Command successful\n",
      "clip8 finished...\n",
      "The time of execution of above program is : 1.15 s\n"
     ]
    }
   ],
   "source": [
    "shortMaker(55,\"/home/mali/repurpose/videofolder/Escape Into Peaceful Autumn Nostalgia | Fall Ambient Music - Rec.5_concat.mp4\")"
   ]
  },
  {
   "cell_type": "markdown",
   "metadata": {},
   "source": [
    "What i might add\n",
    "\n",
    "\n",
    "- customizable pathing (currently you have to write it in)\n",
    "- make noise optional by creating variables for range of noise"
   ]
  }
 ],
 "metadata": {
  "kernelspec": {
   "display_name": "sentana",
   "language": "python",
   "name": "python3"
  },
  "language_info": {
   "codemirror_mode": {
    "name": "ipython",
    "version": 3
   },
   "file_extension": ".py",
   "mimetype": "text/x-python",
   "name": "python",
   "nbconvert_exporter": "python",
   "pygments_lexer": "ipython3",
   "version": "3.10.14"
  }
 },
 "nbformat": 4,
 "nbformat_minor": 2
}
