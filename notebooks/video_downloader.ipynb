{
 "cells": [
  {
   "cell_type": "markdown",
   "metadata": {},
   "source": [
    "Aim : Create/select a folder for placement of sfv --> download a ytv (will add selecting a lcv).\n",
    "\n",
    "\n",
    "term list : sfv - Short form video\n",
    "            ytv - Youtube video\n",
    "            lcv - local video\n",
    "\n",
    "\n",
    "Before implementing a content analysis model that uses openai, i am starting with chapters that are provided by the channel"
   ]
  },
  {
   "cell_type": "code",
   "execution_count": 1,
   "metadata": {},
   "outputs": [],
   "source": [
    "from pytube import YouTube\n",
    "import moviepy.editor as mpe\n",
    "\n",
    "import requests\n",
    "import re\n",
    "import os\n",
    "import time\n"
   ]
  },
  {
   "cell_type": "code",
   "execution_count": 2,
   "metadata": {},
   "outputs": [],
   "source": [
    "def ytv_downloader(video_link):\n",
    "    #record start time\n",
    "    start_time = time.time()\n",
    "\n",
    "    # Specify the folder path, \n",
    "    SAVE_PATH = \"/home/mali/repurpose/videofolder\" # this folder will be accessed in video_chop.py\n",
    "    ytv = YouTube(video_link)\n",
    "\n",
    "    video_name = f\"{ytv.title}_clip.mp4\"\n",
    "    audio_name = f\"{ytv.title}_audio.mp3\"\n",
    "\n",
    "    # Download video and rename\n",
    "    video = ytv.streams.filter(subtype='mp4', res=\"1080p\").first()\n",
    "    print(\"downloading video...\")\n",
    "    video_path = video.download(output_path = SAVE_PATH)\n",
    "    new_video_path = os.path.join(SAVE_PATH, video_name)\n",
    "    os.rename(video_path, new_video_path)\n",
    "    print(\"video finished downloading.\")\n",
    "\n",
    "    # Download audio and rename\n",
    "    audio = ytv.streams.filter(only_audio=True).first()\n",
    "    print(\"downloading audio...\")\n",
    "    audio_path = audio.download(output_path = SAVE_PATH)\n",
    "    new_audio_path = os.path.join(SAVE_PATH, audio_name)\n",
    "    os.rename(audio_path, new_audio_path)\n",
    "    print(\"audio finished downloading.\")\n",
    "\n",
    "    # Setting the audio to the video\n",
    "    video = mpe.VideoFileClip(new_video_path)\n",
    "    audio = mpe.AudioFileClip(new_audio_path)\n",
    "    final = video.set_audio(audio)\n",
    "\n",
    "    # Output result\n",
    "    output_name = f\"{ytv.title}_concat.mp4\"\n",
    "    output_path = os.path.join(SAVE_PATH, output_name)\n",
    "    final.write_videofile(output_path)\n",
    "\n",
    "    # Delete video and audio to keep the result\n",
    "    os.remove(new_video_path)\n",
    "    os.remove(new_audio_path)\n",
    "\n",
    "\n",
    "    print(f\"here is the url {video_link}\")\n",
    "    \n",
    "    #record end time\n",
    "    end_time = time.time()\n",
    "\n",
    "    print(f\"The time of execution of above program is : {round((end_time-start_time),2)} s\")\n",
    "    return video_link"
   ]
  },
  {
   "cell_type": "code",
   "execution_count": 3,
   "metadata": {},
   "outputs": [
    {
     "name": "stdout",
     "output_type": "stream",
     "text": [
      "downloading video...\n",
      "video finished downloading.\n",
      "downloading audio...\n",
      "audio finished downloading.\n",
      "Moviepy - Building video /home/mali/repurpose/videofolder/Escape Into Peaceful Autumn Nostalgia | Fall Ambient Music - Rec.5_concat.mp4.\n",
      "MoviePy - Writing audio in Escape Into Peaceful Autumn Nostalgia | Fall Ambient Music - Rec.5_concatTEMP_MPY_wvf_snd.mp3\n"
     ]
    },
    {
     "name": "stderr",
     "output_type": "stream",
     "text": [
      "                                                                        \r"
     ]
    },
    {
     "name": "stdout",
     "output_type": "stream",
     "text": [
      "MoviePy - Done.\n",
      "Moviepy - Writing video /home/mali/repurpose/videofolder/Escape Into Peaceful Autumn Nostalgia | Fall Ambient Music - Rec.5_concat.mp4\n",
      "\n"
     ]
    },
    {
     "name": "stderr",
     "output_type": "stream",
     "text": [
      "                                                                  \r"
     ]
    },
    {
     "name": "stdout",
     "output_type": "stream",
     "text": [
      "Moviepy - Done !\n",
      "Moviepy - video ready /home/mali/repurpose/videofolder/Escape Into Peaceful Autumn Nostalgia | Fall Ambient Music - Rec.5_concat.mp4\n",
      "here is the url https://www.youtube.com/watch?v=phOkyQo7rjo\n"
     ]
    },
    {
     "data": {
      "text/plain": [
       "'https://www.youtube.com/watch?v=phOkyQo7rjo'"
      ]
     },
     "execution_count": 3,
     "metadata": {},
     "output_type": "execute_result"
    }
   ],
   "source": [
    "#the only global variable is the link\n",
    "ytv_url = ytv_downloader(\"https://www.youtube.com/watch?v=phOkyQo7rjo\")"
   ]
  },
  {
   "cell_type": "markdown",
   "metadata": {},
   "source": [
    "Currently yt.description is not working (08.2024) --> temp solution"
   ]
  },
  {
   "cell_type": "markdown",
   "metadata": {},
   "source": [
    "Error handling: https://github.com/pytube/pytube/issues/1954\n",
    "\n",
    "There seems to be an issue with the pytube .download function.\n",
    "\n",
    "To address this issue i have linked the forum with the answer above."
   ]
  },
  {
   "cell_type": "code",
   "execution_count": 1,
   "metadata": {},
   "outputs": [
    {
     "data": {
      "text/plain": [
       "'\\nMy workaround by changing the cipher.py script in the pytube pkg folder\\n\\n    function_patterns = [\\n        # https://github.com/ytdl-org/youtube-dl/issues/29326#issuecomment-865985377\\n        # https://github.com/yt-dlp/yt-dlp/commit/48416bc4a8f1d5ff07d5977659cb8ece7640dcd8\\n        # var Bpa = [iha];\\n        # ...\\n        # a.C && (b = a.get(\"n\")) && (b = Bpa[0](b), a.set(\"n\", b),\\n        # Bpa.length || iha(\"\")) }};\\n        # In the above case, `iha` is the relevant function name\\n        r\\'a\\\\.[a-zA-Z]\\\\s*&&\\\\s*\\\\([a-z]\\\\s*=\\\\s*a\\\\.get\\\\(\"n\"\\\\)\\\\)\\\\s*&&\\\\s*\\'\\n        r\\'\\\\([a-z]\\\\s*=\\\\s*([a-zA-Z0-9$]+)(\\\\[\\\\d+\\\\])?\\\\([a-z]\\\\)\\',\\n        r\\'a\\\\.[a-zA-Z]\\\\s*&&\\\\s*\\\\([a-z]\\\\s*=\\\\s*a\\\\.get\\\\(\"n\"\\\\)\\\\)\\\\s*&&.*?\\\\|\\\\|\\\\s*([a-z]+)\\',\\n        r\\'\\\\([a-z]\\\\s*=\\\\s*([a-zA-Z0-9$]+)(\\\\[\\\\d+\\\\])?\\\\([a-z]\\\\)\\',\\n        r\\'\\\\([a-z]\\\\s*=\\\\s*([a-zA-Z0-9$]+)(\\\\[\\\\d+\\\\])\\\\([a-z]\\\\)\\',\\n\\n'"
      ]
     },
     "execution_count": 1,
     "metadata": {},
     "output_type": "execute_result"
    }
   ],
   "source": [
    "\"\"\"\n",
    "My workaround by changing the cipher.py script in the pytube pkg folder\n",
    "\n",
    "    function_patterns = [\n",
    "        # https://github.com/ytdl-org/youtube-dl/issues/29326#issuecomment-865985377\n",
    "        # https://github.com/yt-dlp/yt-dlp/commit/48416bc4a8f1d5ff07d5977659cb8ece7640dcd8\n",
    "        # var Bpa = [iha];\n",
    "        # ...\n",
    "        # a.C && (b = a.get(\"n\")) && (b = Bpa[0](b), a.set(\"n\", b),\n",
    "        # Bpa.length || iha(\"\")) }};\n",
    "        # In the above case, `iha` is the relevant function name\n",
    "        r'a\\.[a-zA-Z]\\s*&&\\s*\\([a-z]\\s*=\\s*a\\.get\\(\"n\"\\)\\)\\s*&&\\s*'\n",
    "        r'\\([a-z]\\s*=\\s*([a-zA-Z0-9$]+)(\\[\\d+\\])?\\([a-z]\\)',\n",
    "        r'a\\.[a-zA-Z]\\s*&&\\s*\\([a-z]\\s*=\\s*a\\.get\\(\"n\"\\)\\)\\s*&&.*?\\|\\|\\s*([a-z]+)',\n",
    "        r'\\([a-z]\\s*=\\s*([a-zA-Z0-9$]+)(\\[\\d+\\])?\\([a-z]\\)',\n",
    "        r'\\([a-z]\\s*=\\s*([a-zA-Z0-9$]+)(\\[\\d+\\])\\([a-z]\\)',\n",
    "\n",
    "\"\"\""
   ]
  },
  {
   "cell_type": "code",
   "execution_count": null,
   "metadata": {},
   "outputs": [],
   "source": []
  }
 ],
 "metadata": {
  "kernelspec": {
   "display_name": "sentana",
   "language": "python",
   "name": "python3"
  },
  "language_info": {
   "codemirror_mode": {
    "name": "ipython",
    "version": 3
   },
   "file_extension": ".py",
   "mimetype": "text/x-python",
   "name": "python",
   "nbconvert_exporter": "python",
   "pygments_lexer": "ipython3",
   "version": "3.10.14"
  }
 },
 "nbformat": 4,
 "nbformat_minor": 2
}
