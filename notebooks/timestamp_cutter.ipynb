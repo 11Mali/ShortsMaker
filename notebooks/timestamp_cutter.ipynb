{
 "cells": [
  {
   "cell_type": "code",
   "execution_count": 1,
   "metadata": {},
   "outputs": [],
   "source": [
    "import os\n",
    "import subprocess\n",
    "import argparse"
   ]
  },
  {
   "cell_type": "code",
   "execution_count": 2,
   "metadata": {},
   "outputs": [
    {
     "name": "stderr",
     "output_type": "stream",
     "text": [
      "usage: ipykernel_launcher.py [-h] video_file timestamp_file\n",
      "ipykernel_launcher.py: error: the following arguments are required: video_file, timestamp_file\n"
     ]
    },
    {
     "ename": "SystemExit",
     "evalue": "2",
     "output_type": "error",
     "traceback": [
      "An exception has occurred, use %tb to see the full traceback.\n",
      "\u001b[0;31mSystemExit\u001b[0m\u001b[0;31m:\u001b[0m 2\n"
     ]
    },
    {
     "name": "stderr",
     "output_type": "stream",
     "text": [
      "/home/mali/anaconda3/envs/sentana/lib/python3.10/site-packages/IPython/core/interactiveshell.py:3585: UserWarning: To exit: use 'exit', 'quit', or Ctrl-D.\n",
      "  warn(\"To exit: use 'exit', 'quit', or Ctrl-D.\", stacklevel=1)\n"
     ]
    }
   ],
   "source": [
    "# Function to convert timestamp to seconds\n",
    "def timestamp_to_seconds(timestamp):\n",
    "    mm, ss = map(int, timestamp.split(':'))\n",
    "    return mm * 60 + ss\n",
    "\n",
    "def create_keyframe_database(video_file):\n",
    "    print(\"Creating Keyframe Database. This may take some time, please wait.\")\n",
    "    keyframe_database = {}\n",
    "    ffprobe_command = f\"ffprobe -i \\\"{video_file}\\\" -skip_frame nokey -select_streams v -show_entries frame=pkt_dts_time -of compact=p=0:nk=1 -v 0\"\n",
    "    try:\n",
    "        output = subprocess.check_output(ffprobe_command, shell=True)\n",
    "        frame_times = [float(time) for time in output.decode().split('\\n') if time]\n",
    "        if frame_times:\n",
    "            for time in frame_times:\n",
    "                keyframe_database[time] = time\n",
    "        else:\n",
    "            print(\"No keyframes found.\")\n",
    "    except subprocess.CalledProcessError as e:\n",
    "        print(\"Error executing ffprobe:\", e)\n",
    "    return keyframe_database\n",
    "\n",
    "def find_nearest_keyframe(timestamp, keyframe_database):\n",
    "    return min(keyframe_database, key=lambda x: abs(x - timestamp))\n",
    "\n",
    "# Parse command-line arguments\n",
    "parser = argparse.ArgumentParser(description='Extract video clips based on timestamps')\n",
    "parser.add_argument('video_file', help='Input video file')\n",
    "parser.add_argument('timestamp_file', help='Timestamp file')\n",
    "args = parser.parse_args()\n",
    "\n",
    "# Read timestamps from file\n",
    "timestamp_file = args.timestamp_file\n",
    "with open(timestamp_file, 'r') as file:\n",
    "    timestamps = [line.strip() for line in file.readlines()]\n",
    "\n",
    "# Video file and output directory\n",
    "video_file = args.video_file\n",
    "output_directory = 'output_clips'\n",
    "if not os.path.exists(output_directory):\n",
    "    os.makedirs(output_directory)\n",
    "\n",
    "# Extract input file name without extension\n",
    "input_filename = os.path.splitext(os.path.basename(video_file))[0]\n",
    "\n",
    "print(\"Video Timestamp Extractor: This Python script helps extract video clips based on provided timestamps from a video file. It utilizes ffprobe and ffmpeg to locate keyframes and extract clips accurately.\")\n",
    "print(\"https://github.com/igmrlm/YouTubeTimestampCutter\")\n",
    "print(\"https://YouTube.com/NathanaelNewton\")\n",
    "\n",
    "print(\"Loading video:\")\n",
    "print(video_file)\n",
    "\n",
    "print(\"Loading timestamps from:\")\n",
    "print(timestamp_file)\n",
    "\n",
    "\n",
    "# Create keyframe database\n",
    "keyframe_db = create_keyframe_database(video_file)"
   ]
  },
  {
   "cell_type": "code",
   "execution_count": null,
   "metadata": {},
   "outputs": [],
   "source": []
  }
 ],
 "metadata": {
  "kernelspec": {
   "display_name": "sentana",
   "language": "python",
   "name": "python3"
  },
  "language_info": {
   "codemirror_mode": {
    "name": "ipython",
    "version": 3
   },
   "file_extension": ".py",
   "mimetype": "text/x-python",
   "name": "python",
   "nbconvert_exporter": "python",
   "pygments_lexer": "ipython3",
   "version": "3.10.14"
  }
 },
 "nbformat": 4,
 "nbformat_minor": 2
}
