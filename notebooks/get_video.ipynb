{
 "cells": [
  {
   "cell_type": "markdown",
   "metadata": {},
   "source": [
    "Aim : Create/select a folder for placement of sfv --> download a ytv (will add selecting a lcv).\n",
    "\n",
    "\n",
    "term list : sfv - Short form video\n",
    "            ytv - Youtube video\n",
    "            lcv - local video\n",
    "\n",
    "\n",
    "Before implementing a content analysis model that uses openai, i am starting with chapters that are provided by the channel"
   ]
  },
  {
   "cell_type": "code",
   "execution_count": 1,
   "metadata": {},
   "outputs": [],
   "source": [
    "from pytube import YouTube\n",
    "import moviepy.editor as mpe\n",
    "\n",
    "import requests\n",
    "import re\n",
    "import os\n"
   ]
  },
  {
   "cell_type": "code",
   "execution_count": 2,
   "metadata": {},
   "outputs": [],
   "source": [
    "def ytv_downloader(video_link):\n",
    "    # Specify the folder path, \n",
    "    SAVE_PATH = \"/home/mali/repurpose/videofolder\" # this folder will be accessed in video_chop.py\n",
    "    ytv = YouTube(video_link)\n",
    "    \n",
    "    # Get the highest resolution stream\n",
    "    #ytv = ytv.streams.get_highest_resolution()\n",
    "\n",
    "\n",
    "    #ytv_stream = ytv.streams.get_highest_resolution()\n",
    "\n",
    "    #ytv_stream = ytv.streams.filter(adaptive=True).filter(mime_type='video/webm').first()\n",
    "    #print(ytv_stream)\n",
    "    # Download the video to the specified folder\n",
    "    #print(\"downloading...\")\n",
    "    #ytv_stream.download(output_path = SAVE_PATH)\n",
    "    #print(\"video finished downloading.\")\n",
    "\n",
    "    video_name = f\"{ytv.title}_clip.mp4\"\n",
    "    audio_name = f\"{ytv.title}_audio.mp3\"\n",
    "\n",
    "    # Download video and rename\n",
    "    video = ytv.streams.filter(subtype='mp4', res=\"1080p\").first()\n",
    "    print(\"downloading video...\")\n",
    "    video_path = video.download(output_path = SAVE_PATH)\n",
    "    new_video_path = os.path.join(SAVE_PATH, video_name)\n",
    "    os.rename(video_path, new_video_path)\n",
    "    print(\"video finished downloading.\")\n",
    "\n",
    "    # Download audio and rename\n",
    "    audio = ytv.streams.filter(only_audio=True).first()\n",
    "    print(\"downloading audio...\")\n",
    "    audio_path = audio.download(output_path = SAVE_PATH)\n",
    "    new_audio_path = os.path.join(SAVE_PATH, audio_name)\n",
    "    os.rename(audio_path, new_audio_path)\n",
    "    print(\"audio finished downloading.\")\n",
    "\n",
    "    # Setting the audio to the video\n",
    "    video = mpe.VideoFileClip(new_video_path)\n",
    "    audio = mpe.AudioFileClip(new_audio_path)\n",
    "    final = video.set_audio(audio)\n",
    "\n",
    "    # Output result\n",
    "    output_name = f\"{ytv.title}_concat.mp4\"\n",
    "    output_path = os.path.join(SAVE_PATH, output_name)\n",
    "    final.write_videofile(output_path)\n",
    "\n",
    "    # Delete video and audio to keep the result\n",
    "    os.remove(new_video_path)\n",
    "    os.remove(new_audio_path)\n",
    "\n",
    "\n",
    "    print(f\"here is the url {video_link}\")\n",
    "    return video_link"
   ]
  },
  {
   "cell_type": "code",
   "execution_count": 3,
   "metadata": {},
   "outputs": [
    {
     "name": "stdout",
     "output_type": "stream",
     "text": [
      "downloading video...\n",
      "video finished downloading.\n",
      "downloading audio...\n",
      "audio finished downloading.\n",
      "Moviepy - Building video /home/mali/repurpose/videofolder/Escape Into Peaceful Autumn Nostalgia | Fall Ambient Music - Rec.5_concat.mp4.\n",
      "MoviePy - Writing audio in Escape Into Peaceful Autumn Nostalgia | Fall Ambient Music - Rec.5_concatTEMP_MPY_wvf_snd.mp3\n"
     ]
    },
    {
     "name": "stderr",
     "output_type": "stream",
     "text": [
      "                                                                        \r"
     ]
    },
    {
     "name": "stdout",
     "output_type": "stream",
     "text": [
      "MoviePy - Done.\n",
      "Moviepy - Writing video /home/mali/repurpose/videofolder/Escape Into Peaceful Autumn Nostalgia | Fall Ambient Music - Rec.5_concat.mp4\n",
      "\n"
     ]
    },
    {
     "name": "stderr",
     "output_type": "stream",
     "text": [
      "                                                                  \r"
     ]
    },
    {
     "name": "stdout",
     "output_type": "stream",
     "text": [
      "Moviepy - Done !\n",
      "Moviepy - video ready /home/mali/repurpose/videofolder/Escape Into Peaceful Autumn Nostalgia | Fall Ambient Music - Rec.5_concat.mp4\n",
      "here is the url https://www.youtube.com/watch?v=phOkyQo7rjo\n"
     ]
    },
    {
     "data": {
      "text/plain": [
       "'https://www.youtube.com/watch?v=phOkyQo7rjo'"
      ]
     },
     "execution_count": 3,
     "metadata": {},
     "output_type": "execute_result"
    }
   ],
   "source": [
    "#the only global variable is the link\n",
    "ytv_url = \"https://www.youtube.com/watch?v=phOkyQo7rjo\"\n",
    "\n",
    "ytv_downloader(ytv_url)"
   ]
  },
  {
   "cell_type": "code",
   "execution_count": 41,
   "metadata": {},
   "outputs": [
    {
     "name": "stdout",
     "output_type": "stream",
     "text": [
      "Escape Into Peaceful Autumn Nostalgia | Fall Ambient Music - Rec.5_audio.mp3\n",
      "downloading audio...\n",
      "audio finished downloading.\n"
     ]
    }
   ],
   "source": [
    "ytv_test = YouTube(ytv_url)\n",
    "#mp4_streams = ytv_test.streams.filter(file_extension='mp4').all()\n",
    "#ytv_test.title\n",
    "\n",
    "#ytv_test_stream = ytv_test.streams.filter(adaptive=True).filter(mime_type='video/webm').first()\n",
    "#print(ytv_test_stream)\n",
    "print(f\"{ytv_test.title}_audio.mp3\")\n",
    "audio_name = f\"{ytv_test.title}_audio.mp3\"\n",
    "# Download audio and rename\n",
    "audio = ytv_test.streams.filter(only_audio=True).first()\n",
    "print(\"downloading audio...\")\n",
    "audio_file_path = audio.download(output_path = \"/home/mali/repurpose/videofolder\")\n",
    "new_audio_file_path = os.path.join(\"/home/mali/repurpose/videofolder\", audio_name)\n",
    "os.rename(audio_file_path, new_audio_file_path)\n",
    "print(\"audio finished downloading.\")"
   ]
  },
  {
   "cell_type": "code",
   "execution_count": 35,
   "metadata": {},
   "outputs": [
    {
     "name": "stdout",
     "output_type": "stream",
     "text": [
      "Escape_Into_Peaceful_Autumn_Nostalgia___Fall_Ambient_Music_-_Rec.5\n"
     ]
    }
   ],
   "source": [
    "print(re.sub(\"[^a-zA-Z0–9#-_!’”]\",\"_\", ytv_test.title))"
   ]
  },
  {
   "cell_type": "code",
   "execution_count": 39,
   "metadata": {},
   "outputs": [
    {
     "data": {
      "text/plain": [
       "'Escape Into Peaceful Autumn Nostalgia | Fall Ambient Music - Rec.5'"
      ]
     },
     "execution_count": 39,
     "metadata": {},
     "output_type": "execute_result"
    }
   ],
   "source": [
    "ytv_test.title"
   ]
  },
  {
   "cell_type": "markdown",
   "metadata": {},
   "source": [
    "Currently yt.description is not working (08.2024) --> temp solution"
   ]
  },
  {
   "cell_type": "code",
   "execution_count": 47,
   "metadata": {},
   "outputs": [
    {
     "name": "stdout",
     "output_type": "stream",
     "text": [
      "description: Take a moment to escape into Spyro the Dragon's enchanting world, where gentle ambient space music wraps around you like a warm blanket. As Spyro soars through autumn skies, the blend of calming sounds and nostalgic visuals brings a sense of peace and comfort, almost like reconnecting with an old friend. It's more than just a game—it's a soothing retreat that invites you to relax, unwind, and lose yourself in the beauty of a beloved classic. CozyCorner is your place to slow down and savor the simple joys.\\n\\n\\nSubscribe and leave a like!!\\nShare your feelings in the comments below!\\n\\nTimestamps⏰\\n00:00 \\\"first light of autumn\\\"\\n04:07 \\\"harvest breeze\\\"\\n07:07 \\\"first night of autumn\\\"\\n11:07 \\\"golden leaves\\\"\\n15:07 \\\"quaint village\\\"\\n18:12 \\\"village market stroll\\\"\\n20:20 \\\"candlelit evening\\\"\\n21:18 \\\"harvest moon rising\\\"\\n24:30 \\\"when will the snow fall?\\\"\\n\\n#relaxingmusic #darkambience #sleepaid #gamingnostalgia\\n#ambientmusic #backgroundmusic #relaxingmusic #meditation #meditationmusic #peacefulmusic #soothing #soothingmusic #softmusic #studymusic #study #focusmusic #focus #studymotivation #music #composer #darkmusic #ambient #sleep #sleepmusic\n",
      "length of video 26:29 min\n",
      "Found 9 timestamps\n"
     ]
    }
   ],
   "source": [
    "#Saved the description in a string variable. want to remove the chapterstamps out into its own list\n",
    "\n",
    "ytv_link = requests.get(\"https://www.youtube.com/watch?v=phOkyQo7rjo\").text\n",
    "search = re.search(r'shortDescription\":\"', ytv_link)\n",
    "description = \"\"\n",
    "count = search.start() + 19  # adding the length of the 'shortDescription\":\"\n",
    "while True:\n",
    "    # get the letter at current index in text\n",
    "    letter = ytv_link[count]\n",
    "    if letter == \"\\\"\":\n",
    "        if ytv_link[count - 1] == \"\\\\\":\n",
    "            # this is case where the letter before is a backslash, meaning it is not real end of description\n",
    "            description += letter\n",
    "            count += 1\n",
    "        else:\n",
    "            break\n",
    "    else:\n",
    "        description += letter\n",
    "        count += 1\n",
    "\n",
    "print(f'description: {description}')\n",
    "\n",
    "#Length of video - converted to timestamp format\n",
    "video_len = yt.length\n",
    "\n",
    "seconds = video_len % (24 * 3600)\n",
    "seconds %= 3600\n",
    "minutes = seconds // 60\n",
    "seconds %= 60\n",
    "\n",
    "video_len = (\"%02d:%02d\" % (minutes, seconds)) # Format --> MM:SS\n",
    "\n",
    "print(f\"length of video {video_len} min\")\n",
    "\n",
    "#extract timestamps\n",
    "timestamps = re.findall(r\"\\d+:\\d+\",description)\n",
    "print(f\"Found {len(timestamps)} timestamps\")"
   ]
  },
  {
   "cell_type": "markdown",
   "metadata": {},
   "source": [
    "Error handling: https://github.com/pytube/pytube/issues/1954\n",
    "\n",
    "There seems to be an issue with the pytube .download function.\n",
    "\n",
    "To address this issue i have linked the forum with the answer above."
   ]
  },
  {
   "cell_type": "code",
   "execution_count": null,
   "metadata": {},
   "outputs": [],
   "source": [
    "video_name = f\"{ytv.title}_clip.mp4\"\n",
    "audio_name = f\"{ytv.title}_audio.mp3\"\n",
    "\n",
    "# Download video and rename\n",
    "video = ytv.YouTube(url).streams.filter(subtype='mp4', res=\"1080p\").first()\n",
    "print(\"downloading video...\")\n",
    "video.download(output_path = SAVE_PATH)\n",
    "os.rename(video, video_name)\n",
    "print(\"video finished downloading.\")\n",
    "\n",
    "# Download audio and rename\n",
    "audio = ytv.YouTube(url).streams.filter(only_audio=True).first()\n",
    "print(\"downloading audio...\")\n",
    "audio.download(output_path = SAVE_PATH)\n",
    "os.rename(audio, audio_name)\n",
    "print(\"audio finished downloading.\")\n",
    "\n",
    "# Setting the audio to the video\n",
    "video = mpe.VideoFileClip(video_name)\n",
    "audio = mpe.AudioFileClip(audio_name)\n",
    "final = video.set_audio(audio)\n",
    "\n",
    "# Output result\n",
    "final.write_videofile(f\"{ytv_title}_concat.mp4\")\n",
    "\n",
    "# Delete video and audio to keep the result\n",
    "os.remove(video_name)\n",
    "os.remove(audio_name)"
   ]
  }
 ],
 "metadata": {
  "kernelspec": {
   "display_name": "sentana",
   "language": "python",
   "name": "python3"
  },
  "language_info": {
   "codemirror_mode": {
    "name": "ipython",
    "version": 3
   },
   "file_extension": ".py",
   "mimetype": "text/x-python",
   "name": "python",
   "nbconvert_exporter": "python",
   "pygments_lexer": "ipython3",
   "version": "3.10.14"
  }
 },
 "nbformat": 4,
 "nbformat_minor": 2
}
