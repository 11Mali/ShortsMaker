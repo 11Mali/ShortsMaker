{
 "cells": [
  {
   "cell_type": "markdown",
   "metadata": {},
   "source": [
    "There are propbably questions on why this is a necessary step. On youtube it very commonplace in recent years to manually input chapters through timestamps to important or begining segments in videos. \n",
    "\n",
    "Since the practice is commonplace currently, this is the solution i have selected prior to solving segmentation of video through audio context or video context."
   ]
  },
  {
   "cell_type": "code",
   "execution_count": 6,
   "metadata": {},
   "outputs": [],
   "source": [
    "import requests\n",
    "import re\n",
    "import time\n",
    "\n",
    "from pytube import YouTube"
   ]
  },
  {
   "cell_type": "code",
   "execution_count": 7,
   "metadata": {},
   "outputs": [],
   "source": [
    "# link to vid \"https://www.youtube.com/watch?v=phOkyQo7rjo\""
   ]
  },
  {
   "cell_type": "code",
   "execution_count": 19,
   "metadata": {},
   "outputs": [],
   "source": [
    "def chapther_grabber(video_link):\n",
    "    #record start time\n",
    "    start_time = time.time()\n",
    "\n",
    "    yt = YouTube(video_link)\n",
    "    print(\"video found\")\n",
    "\n",
    "    #Saved the description in a string variable. want to remove the chapterstamps out into its own list\n",
    "    url = requests.get(video_link).text\n",
    "    search = re.search(r'shortDescription\":\"', url)\n",
    "    description = \"\"\n",
    "    print(\"description found\")\n",
    "\n",
    "    count = search.start() + 19  # adding the length of the 'shortDescription\":\"\n",
    "    while True:\n",
    "        # get the letter at current index in text\n",
    "        letter = url[count]\n",
    "        if letter == \"\\\"\":\n",
    "            if url[count - 1] == \"\\\\\":\n",
    "                # this is case where the letter before is a backslash, meaning it is not real end of description\n",
    "                description += letter\n",
    "                count += 1\n",
    "            else:\n",
    "                break\n",
    "        else:\n",
    "            description += letter\n",
    "            count += 1\n",
    "\n",
    "    print(f'description: {description}')\n",
    "\n",
    "    #Length of video - converted to timestamp format\n",
    "    video_len = yt.length\n",
    "\n",
    "    seconds = video_len % (24 * 3600)\n",
    "    seconds %= 3600\n",
    "    minutes = seconds // 60\n",
    "    seconds %= 60\n",
    "\n",
    "    video_len = (\"%02d:%02d\" % (minutes, seconds)) # Format --> MM:SS\n",
    "\n",
    "    print(f\"length of video {video_len} min\")\n",
    "\n",
    "    #extract timestamps\n",
    "    timestamps = re.findall(r\"\\d+:\\d+\",description)\n",
    "    print(f\"Found {len(timestamps)} timestamps\")\n",
    "\n",
    "    #record end time\n",
    "    end_time = time.time()\n",
    "\n",
    "    print(f\"The time of execution of above program is : {round((end_time-start_time),2)} s\")\n",
    "    \n",
    "    return timestamps , video_len"
   ]
  },
  {
   "cell_type": "code",
   "execution_count": 20,
   "metadata": {},
   "outputs": [
    {
     "name": "stdout",
     "output_type": "stream",
     "text": [
      "video found\n",
      "description found\n",
      "description: Take a moment to escape into Spyro the Dragon's enchanting world, where gentle ambient space music wraps around you like a warm blanket. As Spyro soars through autumn skies, the blend of calming sounds and nostalgic visuals brings a sense of peace and comfort, almost like reconnecting with an old friend. It's more than just a game—it's a soothing retreat that invites you to relax, unwind, and lose yourself in the beauty of a beloved classic. CozyCorner is your place to slow down and savor the simple joys.\\n\\n\\nSubscribe and leave a like!!\\nShare your feelings in the comments below!\\n\\nTimestamps⏰\\n00:00 \\\"first light of autumn\\\"\\n04:07 \\\"harvest breeze\\\"\\n07:07 \\\"first night of autumn\\\"\\n11:07 \\\"golden leaves\\\"\\n15:07 \\\"quaint village\\\"\\n18:12 \\\"village market stroll\\\"\\n20:20 \\\"candlelit evening\\\"\\n21:18 \\\"harvest moon rising\\\"\\n24:30 \\\"when will the snow fall?\\\"\\n\\n#relaxingmusic #darkambience #sleepaid #gamingnostalgia\\n#ambientmusic #backgroundmusic #relaxingmusic #meditation #meditationmusic #peacefulmusic #soothing #soothingmusic #softmusic #studymusic #study #focusmusic #focus #studymotivation #music #composer #darkmusic #ambient #sleep #sleepmusic\n",
      "length of video 26:29 min\n",
      "Found 9 timestamps\n",
      "The time of execution of above program is : 0.65 s\n"
     ]
    }
   ],
   "source": [
    "#the only global variable is the link\n",
    "ytv_url = \"https://www.youtube.com/watch?v=phOkyQo7rjo\"\n",
    "\n",
    "timestamps, video_len = chapther_grabber(ytv_url)\n",
    "\n"
   ]
  },
  {
   "cell_type": "markdown",
   "metadata": {},
   "source": [
    "This can be improved, Specifically the searching function."
   ]
  }
 ],
 "metadata": {
  "kernelspec": {
   "display_name": "sentana",
   "language": "python",
   "name": "python3"
  },
  "language_info": {
   "codemirror_mode": {
    "name": "ipython",
    "version": 3
   },
   "file_extension": ".py",
   "mimetype": "text/x-python",
   "name": "python",
   "nbconvert_exporter": "python",
   "pygments_lexer": "ipython3",
   "version": "3.10.14"
  }
 },
 "nbformat": 4,
 "nbformat_minor": 2
}
